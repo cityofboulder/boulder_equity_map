{
 "cells": [
  {
   "cell_type": "code",
   "execution_count": 3,
   "id": "73c6aa0d",
   "metadata": {},
   "outputs": [
    {
     "name": "stderr",
     "output_type": "stream",
     "text": [
      "Warning message:\n",
      "\"package 'openxlsx' was built under R version 4.1.3\"\n"
     ]
    }
   ],
   "source": [
    "library(cluster)\n",
    "library(ggplot2)\n",
    "library(tidycensus)\n",
    "library(tidyverse)\n",
    "library(stringr)\n",
    "library(openxlsx)\n",
    "library(tigris)\n",
    "library(tmap)"
   ]
  },
  {
   "cell_type": "code",
   "execution_count": 19,
   "id": "ea04034f",
   "metadata": {},
   "outputs": [
    {
     "name": "stderr",
     "output_type": "stream",
     "text": [
      "Warning message:\n",
      "\"package 'tigris' was built under R version 4.1.3\"\n",
      "To enable caching of data, set `options(tigris_use_cache = TRUE)`\n",
      "in your R script or .Rprofile.\n",
      "\n",
      "Warning message:\n",
      "\"package 'tmap' was built under R version 4.1.3\"\n"
     ]
    }
   ],
   "source": [
    "library(tmap)"
   ]
  },
  {
   "cell_type": "code",
   "execution_count": 4,
   "id": "b7de6047",
   "metadata": {},
   "outputs": [],
   "source": [
    "acs5_var <- load_variables(2020, \"acs5\")"
   ]
  },
  {
   "cell_type": "code",
   "execution_count": 12,
   "id": "f148f4d2",
   "metadata": {},
   "outputs": [
    {
     "data": {
      "text/html": [
       "<table class=\"dataframe\">\n",
       "<caption>A tibble: 10 × 4</caption>\n",
       "<thead>\n",
       "\t<tr><th scope=col>name</th><th scope=col>label</th><th scope=col>concept</th><th scope=col>geography</th></tr>\n",
       "\t<tr><th scope=col>&lt;chr&gt;</th><th scope=col>&lt;chr&gt;</th><th scope=col>&lt;chr&gt;</th><th scope=col>&lt;chr&gt;</th></tr>\n",
       "</thead>\n",
       "<tbody>\n",
       "\t<tr><td>B01001_001</td><td>Estimate!!Total:                        </td><td>SEX BY AGE</td><td>block group</td></tr>\n",
       "\t<tr><td>B01001_002</td><td>Estimate!!Total:!!Male:                 </td><td>SEX BY AGE</td><td>block group</td></tr>\n",
       "\t<tr><td>B01001_003</td><td>Estimate!!Total:!!Male:!!Under 5 years  </td><td>SEX BY AGE</td><td>block group</td></tr>\n",
       "\t<tr><td>B01001_004</td><td>Estimate!!Total:!!Male:!!5 to 9 years   </td><td>SEX BY AGE</td><td>block group</td></tr>\n",
       "\t<tr><td>B01001_005</td><td>Estimate!!Total:!!Male:!!10 to 14 years </td><td>SEX BY AGE</td><td>block group</td></tr>\n",
       "\t<tr><td>B01001_006</td><td>Estimate!!Total:!!Male:!!15 to 17 years </td><td>SEX BY AGE</td><td>block group</td></tr>\n",
       "\t<tr><td>B01001_007</td><td>Estimate!!Total:!!Male:!!18 and 19 years</td><td>SEX BY AGE</td><td>block group</td></tr>\n",
       "\t<tr><td>B01001_008</td><td>Estimate!!Total:!!Male:!!20 years       </td><td>SEX BY AGE</td><td>block group</td></tr>\n",
       "\t<tr><td>B01001_009</td><td>Estimate!!Total:!!Male:!!21 years       </td><td>SEX BY AGE</td><td>block group</td></tr>\n",
       "\t<tr><td>B01001_010</td><td>Estimate!!Total:!!Male:!!22 to 24 years </td><td>SEX BY AGE</td><td>block group</td></tr>\n",
       "</tbody>\n",
       "</table>\n"
      ],
      "text/latex": [
       "A tibble: 10 × 4\n",
       "\\begin{tabular}{llll}\n",
       " name & label & concept & geography\\\\\n",
       " <chr> & <chr> & <chr> & <chr>\\\\\n",
       "\\hline\n",
       "\t B01001\\_001 & Estimate!!Total:                         & SEX BY AGE & block group\\\\\n",
       "\t B01001\\_002 & Estimate!!Total:!!Male:                  & SEX BY AGE & block group\\\\\n",
       "\t B01001\\_003 & Estimate!!Total:!!Male:!!Under 5 years   & SEX BY AGE & block group\\\\\n",
       "\t B01001\\_004 & Estimate!!Total:!!Male:!!5 to 9 years    & SEX BY AGE & block group\\\\\n",
       "\t B01001\\_005 & Estimate!!Total:!!Male:!!10 to 14 years  & SEX BY AGE & block group\\\\\n",
       "\t B01001\\_006 & Estimate!!Total:!!Male:!!15 to 17 years  & SEX BY AGE & block group\\\\\n",
       "\t B01001\\_007 & Estimate!!Total:!!Male:!!18 and 19 years & SEX BY AGE & block group\\\\\n",
       "\t B01001\\_008 & Estimate!!Total:!!Male:!!20 years        & SEX BY AGE & block group\\\\\n",
       "\t B01001\\_009 & Estimate!!Total:!!Male:!!21 years        & SEX BY AGE & block group\\\\\n",
       "\t B01001\\_010 & Estimate!!Total:!!Male:!!22 to 24 years  & SEX BY AGE & block group\\\\\n",
       "\\end{tabular}\n"
      ],
      "text/markdown": [
       "\n",
       "A tibble: 10 × 4\n",
       "\n",
       "| name &lt;chr&gt; | label &lt;chr&gt; | concept &lt;chr&gt; | geography &lt;chr&gt; |\n",
       "|---|---|---|---|\n",
       "| B01001_001 | Estimate!!Total:                         | SEX BY AGE | block group |\n",
       "| B01001_002 | Estimate!!Total:!!Male:                  | SEX BY AGE | block group |\n",
       "| B01001_003 | Estimate!!Total:!!Male:!!Under 5 years   | SEX BY AGE | block group |\n",
       "| B01001_004 | Estimate!!Total:!!Male:!!5 to 9 years    | SEX BY AGE | block group |\n",
       "| B01001_005 | Estimate!!Total:!!Male:!!10 to 14 years  | SEX BY AGE | block group |\n",
       "| B01001_006 | Estimate!!Total:!!Male:!!15 to 17 years  | SEX BY AGE | block group |\n",
       "| B01001_007 | Estimate!!Total:!!Male:!!18 and 19 years | SEX BY AGE | block group |\n",
       "| B01001_008 | Estimate!!Total:!!Male:!!20 years        | SEX BY AGE | block group |\n",
       "| B01001_009 | Estimate!!Total:!!Male:!!21 years        | SEX BY AGE | block group |\n",
       "| B01001_010 | Estimate!!Total:!!Male:!!22 to 24 years  | SEX BY AGE | block group |\n",
       "\n"
      ],
      "text/plain": [
       "   name       label                                    concept    geography  \n",
       "1  B01001_001 Estimate!!Total:                         SEX BY AGE block group\n",
       "2  B01001_002 Estimate!!Total:!!Male:                  SEX BY AGE block group\n",
       "3  B01001_003 Estimate!!Total:!!Male:!!Under 5 years   SEX BY AGE block group\n",
       "4  B01001_004 Estimate!!Total:!!Male:!!5 to 9 years    SEX BY AGE block group\n",
       "5  B01001_005 Estimate!!Total:!!Male:!!10 to 14 years  SEX BY AGE block group\n",
       "6  B01001_006 Estimate!!Total:!!Male:!!15 to 17 years  SEX BY AGE block group\n",
       "7  B01001_007 Estimate!!Total:!!Male:!!18 and 19 years SEX BY AGE block group\n",
       "8  B01001_008 Estimate!!Total:!!Male:!!20 years        SEX BY AGE block group\n",
       "9  B01001_009 Estimate!!Total:!!Male:!!21 years        SEX BY AGE block group\n",
       "10 B01001_010 Estimate!!Total:!!Male:!!22 to 24 years  SEX BY AGE block group"
      ]
     },
     "metadata": {},
     "output_type": "display_data"
    }
   ],
   "source": [
    "head(acs5_var, 10)"
   ]
  },
  {
   "cell_type": "code",
   "execution_count": 8,
   "id": "6aaa241b",
   "metadata": {},
   "outputs": [],
   "source": [
    "acs5_profile_vars <-  load_variables(year=year, \n",
    "                                     dataset = \"acs5/profile\", \n",
    "                                     cache = TRUE\n",
    "                                     )"
   ]
  },
  {
   "cell_type": "code",
   "execution_count": 9,
   "id": "7b77916a",
   "metadata": {},
   "outputs": [],
   "source": [
    "# Get rid of Puerto Rico characteristics\n",
    "acs5_profile_vars <-  acs5_profile_vars[!acs5_profile_vars$concept == 'SELECTED SOCIAL CHARACTERISTICS IN PUERTO RICO',]"
   ]
  },
  {
   "cell_type": "code",
   "execution_count": 27,
   "id": "1bf3e653",
   "metadata": {},
   "outputs": [],
   "source": [
    "geo_corr <- read.csv(\"..//..//data//raw_data//geocorr_boulder_city.csv\",\n",
    "                     colClasses=c(\"tract\"=\"character\", \n",
    "                                  \"block_group\"=\"character\"\n",
    "                     )\n",
    ")\n",
    "\n",
    "geo_corr  <- mutate(\n",
    "    geo_corr,\n",
    "    block = paste(\"Block Group \", geo_corr$block_group, \", Census Tract \", geo_corr$tract, \"Boulder County, Colorado\")\n",
    ")\n",
    "\n",
    "boulder_tracts <- unique(geo_corr$tract)\n",
    "boulder_blocks  <-  unique(geo_corr$block)"
   ]
  },
  {
   "cell_type": "code",
   "execution_count": 28,
   "id": "e2923de2",
   "metadata": {},
   "outputs": [
    {
     "name": "stdout",
     "output_type": "stream",
     "text": [
      "[1] 85\n"
     ]
    }
   ],
   "source": [
    "print(length(boulder_blocks))"
   ]
  },
  {
   "cell_type": "code",
   "execution_count": 11,
   "id": "bf4f8236",
   "metadata": {},
   "outputs": [
    {
     "data": {
      "text/html": [
       "<style>\n",
       ".list-inline {list-style: none; margin:0; padding: 0}\n",
       ".list-inline>li {display: inline-block}\n",
       ".list-inline>li:not(:last-child)::after {content: \"\\00b7\"; padding: 0 .5ex}\n",
       "</style>\n",
       "<ol class=list-inline><li>'121.01'</li><li>'121.03'</li><li>'121.04'</li><li>'121.05'</li><li>'121.06'</li><li>'121.07'</li><li>'122.01'</li><li>'122.04'</li><li>'122.05'</li><li>'122.06'</li><li>'122.07'</li><li>'122.08'</li><li>'123'</li><li>'124.01'</li><li>'125.01'</li><li>'125.05'</li><li>'125.07'</li><li>'125.08'</li><li>'125.09'</li><li>'125.10'</li><li>'125.11'</li><li>'126.03'</li><li>'126.05'</li><li>'126.08'</li><li>'126.09'</li><li>'126.10'</li><li>'127.01'</li><li>'127.05'</li><li>'127.07'</li><li>'127.08'</li><li>'127.10'</li><li>'132.05'</li><li>'137.04'</li></ol>\n"
      ],
      "text/latex": [
       "\\begin{enumerate*}\n",
       "\\item '121.01'\n",
       "\\item '121.03'\n",
       "\\item '121.04'\n",
       "\\item '121.05'\n",
       "\\item '121.06'\n",
       "\\item '121.07'\n",
       "\\item '122.01'\n",
       "\\item '122.04'\n",
       "\\item '122.05'\n",
       "\\item '122.06'\n",
       "\\item '122.07'\n",
       "\\item '122.08'\n",
       "\\item '123'\n",
       "\\item '124.01'\n",
       "\\item '125.01'\n",
       "\\item '125.05'\n",
       "\\item '125.07'\n",
       "\\item '125.08'\n",
       "\\item '125.09'\n",
       "\\item '125.10'\n",
       "\\item '125.11'\n",
       "\\item '126.03'\n",
       "\\item '126.05'\n",
       "\\item '126.08'\n",
       "\\item '126.09'\n",
       "\\item '126.10'\n",
       "\\item '127.01'\n",
       "\\item '127.05'\n",
       "\\item '127.07'\n",
       "\\item '127.08'\n",
       "\\item '127.10'\n",
       "\\item '132.05'\n",
       "\\item '137.04'\n",
       "\\end{enumerate*}\n"
      ],
      "text/markdown": [
       "1. '121.01'\n",
       "2. '121.03'\n",
       "3. '121.04'\n",
       "4. '121.05'\n",
       "5. '121.06'\n",
       "6. '121.07'\n",
       "7. '122.01'\n",
       "8. '122.04'\n",
       "9. '122.05'\n",
       "10. '122.06'\n",
       "11. '122.07'\n",
       "12. '122.08'\n",
       "13. '123'\n",
       "14. '124.01'\n",
       "15. '125.01'\n",
       "16. '125.05'\n",
       "17. '125.07'\n",
       "18. '125.08'\n",
       "19. '125.09'\n",
       "20. '125.10'\n",
       "21. '125.11'\n",
       "22. '126.03'\n",
       "23. '126.05'\n",
       "24. '126.08'\n",
       "25. '126.09'\n",
       "26. '126.10'\n",
       "27. '127.01'\n",
       "28. '127.05'\n",
       "29. '127.07'\n",
       "30. '127.08'\n",
       "31. '127.10'\n",
       "32. '132.05'\n",
       "33. '137.04'\n",
       "\n",
       "\n"
      ],
      "text/plain": [
       " [1] \"121.01\" \"121.03\" \"121.04\" \"121.05\" \"121.06\" \"121.07\" \"122.01\" \"122.04\"\n",
       " [9] \"122.05\" \"122.06\" \"122.07\" \"122.08\" \"123\"    \"124.01\" \"125.01\" \"125.05\"\n",
       "[17] \"125.07\" \"125.08\" \"125.09\" \"125.10\" \"125.11\" \"126.03\" \"126.05\" \"126.08\"\n",
       "[25] \"126.09\" \"126.10\" \"127.01\" \"127.05\" \"127.07\" \"127.08\" \"127.10\" \"132.05\"\n",
       "[33] \"137.04\""
      ]
     },
     "metadata": {},
     "output_type": "display_data"
    }
   ],
   "source": [
    "boulder_tracts"
   ]
  },
  {
   "cell_type": "code",
   "execution_count": 29,
   "id": "e14abc07",
   "metadata": {},
   "outputs": [
    {
     "name": "stderr",
     "output_type": "stream",
     "text": [
      "Getting data from the 2016-2020 5-year ACS\n",
      "\n",
      "Downloading feature geometry from the Census website.  To cache shapefiles for use in future sessions, set `options(tigris_use_cache = TRUE)`.\n",
      "\n",
      "ERROR while rich displaying an object: Error in loadNamespace(x): there is no package called 'geojsonio'\n",
      "\n",
      "Traceback:\n",
      "1. tryCatch(withCallingHandlers({\n",
      " .     if (!mime %in% names(repr::mime2repr)) \n",
      " .         stop(\"No repr_* for mimetype \", mime, \" in repr::mime2repr\")\n",
      " .     rpr <- repr::mime2repr[[mime]](obj)\n",
      " .     if (is.null(rpr)) \n",
      " .         return(NULL)\n",
      " .     prepare_content(is.raw(rpr), rpr)\n",
      " . }, error = error_handler), error = outer_handler)\n",
      "2. tryCatchList(expr, classes, parentenv, handlers)\n",
      "3. tryCatchOne(expr, names, parentenv, handlers[[1L]])\n",
      "4. doTryCatch(return(expr), name, parentenv, handler)\n",
      "5. withCallingHandlers({\n",
      " .     if (!mime %in% names(repr::mime2repr)) \n",
      " .         stop(\"No repr_* for mimetype \", mime, \" in repr::mime2repr\")\n",
      " .     rpr <- repr::mime2repr[[mime]](obj)\n",
      " .     if (is.null(rpr)) \n",
      " .         return(NULL)\n",
      " .     prepare_content(is.raw(rpr), rpr)\n",
      " . }, error = error_handler)\n",
      "6. repr::mime2repr[[mime]](obj)\n",
      "7. repr_geojson.sf(obj)\n",
      "8. repr_geojson(geojsonio::geojson_list(obj), ...)\n",
      "9. loadNamespace(x)\n",
      "10. withRestarts(stop(cond), retry_loadNamespace = function() NULL)\n",
      "11. withOneRestart(expr, restarts[[1L]])\n",
      "12. doWithOneRestart(return(expr), restart)\n"
     ]
    },
    {
     "data": {
      "text/html": [
       "<table class=\"dataframe\">\n",
       "<caption>A sf: 6 × 6</caption>\n",
       "<thead>\n",
       "\t<tr><th></th><th scope=col>GEOID</th><th scope=col>NAME</th><th scope=col>variable</th><th scope=col>estimate</th><th scope=col>moe</th><th scope=col>geometry</th></tr>\n",
       "\t<tr><th></th><th scope=col>&lt;chr&gt;</th><th scope=col>&lt;chr&gt;</th><th scope=col>&lt;chr&gt;</th><th scope=col>&lt;dbl&gt;</th><th scope=col>&lt;dbl&gt;</th><th scope=col>&lt;MULTIPOLYGON [°]&gt;</th></tr>\n",
       "</thead>\n",
       "<tbody>\n",
       "\t<tr><th scope=row>1</th><td>080130132054</td><td>Block Group 4, Census Tract 132.05, Boulder County, Colorado</td><td>B01001_001</td><td>2063</td><td>618</td><td>MULTIPOLYGON (((-105.1692 4...</td></tr>\n",
       "\t<tr><th scope=row>2</th><td>080130132054</td><td>Block Group 4, Census Tract 132.05, Boulder County, Colorado</td><td>B01001_002</td><td> 934</td><td>266</td><td>MULTIPOLYGON (((-105.1692 4...</td></tr>\n",
       "\t<tr><th scope=row>3</th><td>080130132054</td><td>Block Group 4, Census Tract 132.05, Boulder County, Colorado</td><td>B01001_003</td><td>  25</td><td> 29</td><td>MULTIPOLYGON (((-105.1692 4...</td></tr>\n",
       "\t<tr><th scope=row>4</th><td>080130132054</td><td>Block Group 4, Census Tract 132.05, Boulder County, Colorado</td><td>B01001_004</td><td>  13</td><td> 22</td><td>MULTIPOLYGON (((-105.1692 4...</td></tr>\n",
       "\t<tr><th scope=row>5</th><td>080130132054</td><td>Block Group 4, Census Tract 132.05, Boulder County, Colorado</td><td>B01001_005</td><td>  81</td><td> 65</td><td>MULTIPOLYGON (((-105.1692 4...</td></tr>\n",
       "\t<tr><th scope=row>6</th><td>080130132054</td><td>Block Group 4, Census Tract 132.05, Boulder County, Colorado</td><td>B01001_006</td><td>  18</td><td> 26</td><td>MULTIPOLYGON (((-105.1692 4...</td></tr>\n",
       "</tbody>\n",
       "</table>\n"
      ],
      "text/latex": [
       "A sf: 6 × 6\n",
       "\\begin{tabular}{r|llllll}\n",
       "  & GEOID & NAME & variable & estimate & moe & geometry\\\\\n",
       "  & <chr> & <chr> & <chr> & <dbl> & <dbl> & <MULTIPOLYGON {[}°{]}>\\\\\n",
       "\\hline\n",
       "\t1 & 080130132054 & Block Group 4, Census Tract 132.05, Boulder County, Colorado & B01001\\_001 & 2063 & 618 & MULTIPOLYGON (((-105.1692 4...\\\\\n",
       "\t2 & 080130132054 & Block Group 4, Census Tract 132.05, Boulder County, Colorado & B01001\\_002 &  934 & 266 & MULTIPOLYGON (((-105.1692 4...\\\\\n",
       "\t3 & 080130132054 & Block Group 4, Census Tract 132.05, Boulder County, Colorado & B01001\\_003 &   25 &  29 & MULTIPOLYGON (((-105.1692 4...\\\\\n",
       "\t4 & 080130132054 & Block Group 4, Census Tract 132.05, Boulder County, Colorado & B01001\\_004 &   13 &  22 & MULTIPOLYGON (((-105.1692 4...\\\\\n",
       "\t5 & 080130132054 & Block Group 4, Census Tract 132.05, Boulder County, Colorado & B01001\\_005 &   81 &  65 & MULTIPOLYGON (((-105.1692 4...\\\\\n",
       "\t6 & 080130132054 & Block Group 4, Census Tract 132.05, Boulder County, Colorado & B01001\\_006 &   18 &  26 & MULTIPOLYGON (((-105.1692 4...\\\\\n",
       "\\end{tabular}\n"
      ],
      "text/markdown": [
       "\n",
       "A sf: 6 × 6\n",
       "\n",
       "| <!--/--> | GEOID &lt;chr&gt; | NAME &lt;chr&gt; | variable &lt;chr&gt; | estimate &lt;dbl&gt; | moe &lt;dbl&gt; | geometry &lt;MULTIPOLYGON [°]&gt; |\n",
       "|---|---|---|---|---|---|---|\n",
       "| 1 | 080130132054 | Block Group 4, Census Tract 132.05, Boulder County, Colorado | B01001_001 | 2063 | 618 | MULTIPOLYGON (((-105.1692 4... |\n",
       "| 2 | 080130132054 | Block Group 4, Census Tract 132.05, Boulder County, Colorado | B01001_002 |  934 | 266 | MULTIPOLYGON (((-105.1692 4... |\n",
       "| 3 | 080130132054 | Block Group 4, Census Tract 132.05, Boulder County, Colorado | B01001_003 |   25 |  29 | MULTIPOLYGON (((-105.1692 4... |\n",
       "| 4 | 080130132054 | Block Group 4, Census Tract 132.05, Boulder County, Colorado | B01001_004 |   13 |  22 | MULTIPOLYGON (((-105.1692 4... |\n",
       "| 5 | 080130132054 | Block Group 4, Census Tract 132.05, Boulder County, Colorado | B01001_005 |   81 |  65 | MULTIPOLYGON (((-105.1692 4... |\n",
       "| 6 | 080130132054 | Block Group 4, Census Tract 132.05, Boulder County, Colorado | B01001_006 |   18 |  26 | MULTIPOLYGON (((-105.1692 4... |\n",
       "\n"
      ],
      "text/plain": [
       "  GEOID        NAME                                                        \n",
       "1 080130132054 Block Group 4, Census Tract 132.05, Boulder County, Colorado\n",
       "2 080130132054 Block Group 4, Census Tract 132.05, Boulder County, Colorado\n",
       "3 080130132054 Block Group 4, Census Tract 132.05, Boulder County, Colorado\n",
       "4 080130132054 Block Group 4, Census Tract 132.05, Boulder County, Colorado\n",
       "5 080130132054 Block Group 4, Census Tract 132.05, Boulder County, Colorado\n",
       "6 080130132054 Block Group 4, Census Tract 132.05, Boulder County, Colorado\n",
       "  variable   estimate moe geometry                      \n",
       "1 B01001_001 2063     618 MULTIPOLYGON (((-105.1692 4...\n",
       "2 B01001_002  934     266 MULTIPOLYGON (((-105.1692 4...\n",
       "3 B01001_003   25      29 MULTIPOLYGON (((-105.1692 4...\n",
       "4 B01001_004   13      22 MULTIPOLYGON (((-105.1692 4...\n",
       "5 B01001_005   81      65 MULTIPOLYGON (((-105.1692 4...\n",
       "6 B01001_006   18      26 MULTIPOLYGON (((-105.1692 4..."
      ]
     },
     "metadata": {},
     "output_type": "display_data"
    }
   ],
   "source": [
    "block_vars <- get_acs(\n",
    "  geography = \"block group\",\n",
    "  variables = acs5_var$name,\n",
    "  state = \"CO\",\n",
    "  county = \"Boulder\",\n",
    "  # tract = boulder_tracts,\n",
    "  year = year,\n",
    "  survey = \"acs5\",\n",
    "  geometry = TRUE\n",
    ")\n",
    "head(block_vars)"
   ]
  },
  {
   "cell_type": "code",
   "execution_count": 13,
   "id": "820de4bf",
   "metadata": {},
   "outputs": [
    {
     "name": "stderr",
     "output_type": "stream",
     "text": [
      "Getting data from the 2016-2020 5-year ACS\n",
      "\n",
      "Downloading feature geometry from the Census website.  To cache shapefiles for use in future sessions, set `options(tigris_use_cache = TRUE)`.\n",
      "\n",
      "Using the ACS Data Profile\n",
      "\n",
      "Using the ACS Data Profile\n",
      "\n",
      "Using the ACS Data Profile\n",
      "\n",
      "Using the ACS Data Profile\n",
      "\n",
      "Using the ACS Data Profile\n",
      "\n",
      "Using the ACS Data Profile\n",
      "\n",
      "Using the ACS Data Profile\n",
      "\n",
      "Using the ACS Data Profile\n",
      "\n",
      "Using the ACS Data Profile\n",
      "\n",
      "Using the ACS Data Profile\n",
      "\n",
      "Using the ACS Data Profile\n",
      "\n",
      "Using the ACS Data Profile\n",
      "\n",
      "Using the ACS Data Profile\n",
      "\n",
      "Using the ACS Data Profile\n",
      "\n",
      "Using the ACS Data Profile\n",
      "\n",
      "Using the ACS Data Profile\n",
      "\n",
      "Using the ACS Data Profile\n",
      "\n",
      "Using the ACS Data Profile\n",
      "\n",
      "Using the ACS Data Profile\n",
      "\n",
      "Using the ACS Data Profile\n",
      "\n",
      "Using the ACS Data Profile\n",
      "\n",
      "Using the ACS Data Profile\n",
      "\n",
      "Using the ACS Data Profile\n",
      "\n",
      "Using the ACS Data Profile\n",
      "\n",
      "Using the ACS Data Profile\n",
      "\n",
      "Using the ACS Data Profile\n",
      "\n",
      "Using the ACS Data Profile\n",
      "\n",
      "Using the ACS Data Profile\n",
      "\n",
      "Using the ACS Data Profile\n",
      "\n",
      "Using the ACS Data Profile\n",
      "\n",
      "Using the ACS Data Profile\n",
      "\n",
      "Using the ACS Data Profile\n",
      "\n",
      "Using the ACS Data Profile\n",
      "\n",
      "Using the ACS Data Profile\n",
      "\n",
      "Using the ACS Data Profile\n",
      "\n",
      "Using the ACS Data Profile\n",
      "\n",
      "Using the ACS Data Profile\n",
      "\n",
      "Using the ACS Data Profile\n",
      "\n",
      "Using the ACS Data Profile\n",
      "\n",
      "Using the ACS Data Profile\n",
      "\n",
      "Using the ACS Data Profile\n",
      "\n",
      "Using the ACS Data Profile\n",
      "\n",
      "Using the ACS Data Profile\n",
      "\n",
      "Using the ACS Data Profile\n",
      "\n"
     ]
    },
    {
     "name": "stdout",
     "output_type": "stream",
     "text": [
      "  |======================================================================| 100%\n"
     ]
    }
   ],
   "source": [
    "boulder_vars <- get_acs(\n",
    "  geography = \"tract\",\n",
    "  variables = acs5_profile_vars$name,\n",
    "  state = \"CO\",\n",
    "  county = \"Boulder\",\n",
    "  # tract = boulder_tracts,\n",
    "  year = year,\n",
    "  survey = \"acs5\",\n",
    "  geometry = TRUE\n",
    ") %>%\n",
    "  separate(NAME, into = c(\"tract\", \"county\", \"state\"),\n",
    "           sep= \", \")\n",
    "boulder_vars$tract <- str_replace(\n",
    "  boulder_vars$tract, \n",
    "  \"Census Tract \", \n",
    "  \"\"\n",
    ")\n",
    "# This brings in too many tracts, in spite of the boulder_tracts\n",
    "# limitation...\n",
    "# boulder_vars_wide <- get_acs(\n",
    "#   geography = \"tract\",\n",
    "#   variables = acs5_profile_vars$name,\n",
    "#   state = \"CO\",\n",
    "#   county = \"Boulder\",\n",
    "#   # tract = boulder_tracts,\n",
    "#   year = year,\n",
    "#   survey = \"acs5\",\n",
    "#   output = 'wide'\n",
    "# ) %>%\n",
    "#   separate(NAME, into = c(\"tract\", \"county\", \"state\"),\n",
    "#            sep= \", \")"
   ]
  },
  {
   "cell_type": "code",
   "execution_count": 15,
   "id": "4e7de1a9",
   "metadata": {},
   "outputs": [],
   "source": [
    "boulder_vars <- boulder_vars[boulder_vars$tract %in% boulder_tracts,]\n",
    "block_vars <- block_vars[block_vars$]"
   ]
  },
  {
   "cell_type": "code",
   "execution_count": 16,
   "id": "a7add8a6",
   "metadata": {},
   "outputs": [
    {
     "name": "stderr",
     "output_type": "stream",
     "text": [
      "ERROR while rich displaying an object: Error in loadNamespace(x): there is no package called 'geojsonio'\n",
      "\n",
      "Traceback:\n",
      "1. tryCatch(withCallingHandlers({\n",
      " .     if (!mime %in% names(repr::mime2repr)) \n",
      " .         stop(\"No repr_* for mimetype \", mime, \" in repr::mime2repr\")\n",
      " .     rpr <- repr::mime2repr[[mime]](obj)\n",
      " .     if (is.null(rpr)) \n",
      " .         return(NULL)\n",
      " .     prepare_content(is.raw(rpr), rpr)\n",
      " . }, error = error_handler), error = outer_handler)\n",
      "2. tryCatchList(expr, classes, parentenv, handlers)\n",
      "3. tryCatchOne(expr, names, parentenv, handlers[[1L]])\n",
      "4. doTryCatch(return(expr), name, parentenv, handler)\n",
      "5. withCallingHandlers({\n",
      " .     if (!mime %in% names(repr::mime2repr)) \n",
      " .         stop(\"No repr_* for mimetype \", mime, \" in repr::mime2repr\")\n",
      " .     rpr <- repr::mime2repr[[mime]](obj)\n",
      " .     if (is.null(rpr)) \n",
      " .         return(NULL)\n",
      " .     prepare_content(is.raw(rpr), rpr)\n",
      " . }, error = error_handler)\n",
      "6. repr::mime2repr[[mime]](obj)\n",
      "7. repr_geojson.sf(obj)\n",
      "8. repr_geojson(geojsonio::geojson_list(obj), ...)\n",
      "9. loadNamespace(x)\n",
      "10. withRestarts(stop(cond), retry_loadNamespace = function() NULL)\n",
      "11. withOneRestart(expr, restarts[[1L]])\n",
      "12. doWithOneRestart(return(expr), restart)\n"
     ]
    },
    {
     "data": {
      "text/html": [
       "<table class=\"dataframe\">\n",
       "<caption>A sf: 6 × 8</caption>\n",
       "<thead>\n",
       "\t<tr><th></th><th scope=col>GEOID</th><th scope=col>tract</th><th scope=col>county</th><th scope=col>state</th><th scope=col>variable</th><th scope=col>estimate</th><th scope=col>moe</th><th scope=col>geometry</th></tr>\n",
       "\t<tr><th></th><th scope=col>&lt;chr&gt;</th><th scope=col>&lt;chr&gt;</th><th scope=col>&lt;chr&gt;</th><th scope=col>&lt;chr&gt;</th><th scope=col>&lt;chr&gt;</th><th scope=col>&lt;dbl&gt;</th><th scope=col>&lt;dbl&gt;</th><th scope=col>&lt;MULTIPOLYGON [°]&gt;</th></tr>\n",
       "</thead>\n",
       "<tbody>\n",
       "\t<tr><th scope=row>2093</th><td>08013012603</td><td>126.03</td><td>Boulder County</td><td>Colorado</td><td>DP02_0001 </td><td>1379.0</td><td>157</td><td>MULTIPOLYGON (((-105.2406 4...</td></tr>\n",
       "\t<tr><th scope=row>2094</th><td>08013012603</td><td>126.03</td><td>Boulder County</td><td>Colorado</td><td>DP02_0001P</td><td>1379.0</td><td> NA</td><td>MULTIPOLYGON (((-105.2406 4...</td></tr>\n",
       "\t<tr><th scope=row>2095</th><td>08013012603</td><td>126.03</td><td>Boulder County</td><td>Colorado</td><td>DP02_0002 </td><td> 737.0</td><td>110</td><td>MULTIPOLYGON (((-105.2406 4...</td></tr>\n",
       "\t<tr><th scope=row>2096</th><td>08013012603</td><td>126.03</td><td>Boulder County</td><td>Colorado</td><td>DP02_0002P</td><td>  53.4</td><td>  7</td><td>MULTIPOLYGON (((-105.2406 4...</td></tr>\n",
       "\t<tr><th scope=row>2097</th><td>08013012603</td><td>126.03</td><td>Boulder County</td><td>Colorado</td><td>DP02_0003 </td><td>    NA</td><td> NA</td><td>MULTIPOLYGON (((-105.2406 4...</td></tr>\n",
       "\t<tr><th scope=row>2098</th><td>08013012603</td><td>126.03</td><td>Boulder County</td><td>Colorado</td><td>DP02_0003P</td><td>    NA</td><td> NA</td><td>MULTIPOLYGON (((-105.2406 4...</td></tr>\n",
       "</tbody>\n",
       "</table>\n"
      ],
      "text/latex": [
       "A sf: 6 × 8\n",
       "\\begin{tabular}{r|llllllll}\n",
       "  & GEOID & tract & county & state & variable & estimate & moe & geometry\\\\\n",
       "  & <chr> & <chr> & <chr> & <chr> & <chr> & <dbl> & <dbl> & <MULTIPOLYGON {[}°{]}>\\\\\n",
       "\\hline\n",
       "\t2093 & 08013012603 & 126.03 & Boulder County & Colorado & DP02\\_0001  & 1379.0 & 157 & MULTIPOLYGON (((-105.2406 4...\\\\\n",
       "\t2094 & 08013012603 & 126.03 & Boulder County & Colorado & DP02\\_0001P & 1379.0 &  NA & MULTIPOLYGON (((-105.2406 4...\\\\\n",
       "\t2095 & 08013012603 & 126.03 & Boulder County & Colorado & DP02\\_0002  &  737.0 & 110 & MULTIPOLYGON (((-105.2406 4...\\\\\n",
       "\t2096 & 08013012603 & 126.03 & Boulder County & Colorado & DP02\\_0002P &   53.4 &   7 & MULTIPOLYGON (((-105.2406 4...\\\\\n",
       "\t2097 & 08013012603 & 126.03 & Boulder County & Colorado & DP02\\_0003  &     NA &  NA & MULTIPOLYGON (((-105.2406 4...\\\\\n",
       "\t2098 & 08013012603 & 126.03 & Boulder County & Colorado & DP02\\_0003P &     NA &  NA & MULTIPOLYGON (((-105.2406 4...\\\\\n",
       "\\end{tabular}\n"
      ],
      "text/markdown": [
       "\n",
       "A sf: 6 × 8\n",
       "\n",
       "| <!--/--> | GEOID &lt;chr&gt; | tract &lt;chr&gt; | county &lt;chr&gt; | state &lt;chr&gt; | variable &lt;chr&gt; | estimate &lt;dbl&gt; | moe &lt;dbl&gt; | geometry &lt;MULTIPOLYGON [°]&gt; |\n",
       "|---|---|---|---|---|---|---|---|---|\n",
       "| 2093 | 08013012603 | 126.03 | Boulder County | Colorado | DP02_0001  | 1379.0 | 157 | MULTIPOLYGON (((-105.2406 4... |\n",
       "| 2094 | 08013012603 | 126.03 | Boulder County | Colorado | DP02_0001P | 1379.0 |  NA | MULTIPOLYGON (((-105.2406 4... |\n",
       "| 2095 | 08013012603 | 126.03 | Boulder County | Colorado | DP02_0002  |  737.0 | 110 | MULTIPOLYGON (((-105.2406 4... |\n",
       "| 2096 | 08013012603 | 126.03 | Boulder County | Colorado | DP02_0002P |   53.4 |   7 | MULTIPOLYGON (((-105.2406 4... |\n",
       "| 2097 | 08013012603 | 126.03 | Boulder County | Colorado | DP02_0003  |     NA |  NA | MULTIPOLYGON (((-105.2406 4... |\n",
       "| 2098 | 08013012603 | 126.03 | Boulder County | Colorado | DP02_0003P |     NA |  NA | MULTIPOLYGON (((-105.2406 4... |\n",
       "\n"
      ],
      "text/plain": [
       "     GEOID       tract  county         state    variable   estimate moe\n",
       "2093 08013012603 126.03 Boulder County Colorado DP02_0001  1379.0   157\n",
       "2094 08013012603 126.03 Boulder County Colorado DP02_0001P 1379.0    NA\n",
       "2095 08013012603 126.03 Boulder County Colorado DP02_0002   737.0   110\n",
       "2096 08013012603 126.03 Boulder County Colorado DP02_0002P   53.4     7\n",
       "2097 08013012603 126.03 Boulder County Colorado DP02_0003      NA    NA\n",
       "2098 08013012603 126.03 Boulder County Colorado DP02_0003P     NA    NA\n",
       "     geometry                      \n",
       "2093 MULTIPOLYGON (((-105.2406 4...\n",
       "2094 MULTIPOLYGON (((-105.2406 4...\n",
       "2095 MULTIPOLYGON (((-105.2406 4...\n",
       "2096 MULTIPOLYGON (((-105.2406 4...\n",
       "2097 MULTIPOLYGON (((-105.2406 4...\n",
       "2098 MULTIPOLYGON (((-105.2406 4..."
      ]
     },
     "metadata": {},
     "output_type": "display_data"
    }
   ],
   "source": [
    "head(boulder_vars)"
   ]
  },
  {
   "cell_type": "code",
   "execution_count": 17,
   "id": "950dfb49",
   "metadata": {},
   "outputs": [],
   "source": [
    "boulder_vars <- mutate(\n",
    "  boulder_vars, \n",
    "  moe_ratio = boulder_vars$moe/boulder_vars$estimate\n",
    "  )\n",
    "# Exclude Inf and NA values\n",
    "boulder_moe <- boulder_vars[boulder_vars$estimate != 0,]\n",
    "boulder_moe <- boulder_moe[!is.na(boulder_moe$moe_ratio),]\n",
    "\n",
    "boulder_moe <-  boulder_moe %>%\n",
    "  group_by(tract) %>%\n",
    "    summarize(mean_moe_ratio = mean(moe_ratio))"
   ]
  },
  {
   "cell_type": "code",
   "execution_count": 20,
   "id": "b0c25afb",
   "metadata": {},
   "outputs": [
    {
     "data": {
      "image/png": "[encoded data removed]",
      "text/plain": [
       "plot without title"
      ]
     },
     "metadata": {
      "image/png": {
       "height": 420,
       "width": 420
      }
     },
     "output_type": "display_data"
    }
   ],
   "source": [
    "tm_shape(boulder_moe) + \n",
    "  tm_polygons(col = \"mean_moe_ratio\")"
   ]
  },
  {
   "cell_type": "code",
   "execution_count": null,
   "id": "d36cb188",
   "metadata": {},
   "outputs": [],
   "source": []
  }
 ],
 "metadata": {
  "kernelspec": {
   "display_name": "R",
   "language": "R",
   "name": "ir"
  },
  "language_info": {
   "codemirror_mode": "r",
   "file_extension": ".r",
   "mimetype": "text/x-r-source",
   "name": "R",
   "pygments_lexer": "r",
   "version": "4.1.0"
  }
 },
 "nbformat": 4,
 "nbformat_minor": 5
}
